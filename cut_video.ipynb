{
 "metadata": {
  "language_info": {
   "codemirror_mode": {
    "name": "ipython",
    "version": 3
   },
   "file_extension": ".py",
   "mimetype": "text/x-python",
   "name": "python",
   "nbconvert_exporter": "python",
   "pygments_lexer": "ipython3",
   "version": "3.7.4-final"
  },
  "orig_nbformat": 2,
  "kernelspec": {
   "name": "python3",
   "display_name": "Python 3"
  }
 },
 "nbformat": 4,
 "nbformat_minor": 2,
 "cells": [
  {
   "cell_type": "code",
   "execution_count": 32,
   "metadata": {},
   "outputs": [
    {
     "output_type": "stream",
     "name": "stdout",
     "text": [
      "Moviepy - Running:\n",
      ">>> \"+ \" \".join(cmd)\n",
      "Moviepy - Command successful\n"
     ]
    }
   ],
   "source": [
    "from moviepy.video.io.ffmpeg_tools import ffmpeg_extract_subclip\n",
    "#ffmpeg_extract_subclip(\"tgsb_clip_deinterlaced.avi\", 868, 878, targetname=\"tgsb_clip.avi\")"
   ]
  },
  {
   "cell_type": "code",
   "execution_count": 64,
   "metadata": {},
   "outputs": [
    {
     "output_type": "execute_result",
     "data": {
      "text/plain": [
       "4.000667334000668"
      ]
     },
     "metadata": {},
     "execution_count": 64
    }
   ],
   "source": [
    "clip = VideoFileClip(\"tgsb_super.mp4\")\n",
    "int(clip.fps * clip.duration)\n",
    "(1199/10)/29.97"
   ]
  },
  {
   "cell_type": "code",
   "execution_count": 1,
   "metadata": {},
   "outputs": [
    {
     "output_type": "stream",
     "name": "stderr",
     "text": [
      "t:   0%|          | 0/75 [00:00<?, ?it/s, now=None]Moviepy - Building video tgsb_super_speedup_4.mp4.\n",
      "Moviepy - Writing video tgsb_super_speedup_4.mp4\n",
      "\n",
      "Moviepy - Done !\n",
      "Moviepy - video ready tgsb_super_speedup_4.mp4\n"
     ]
    }
   ],
   "source": [
    "from moviepy.editor import *\n",
    "clip = VideoFileClip(\"tgsb_super.mp4\")\n",
    "clip=clip.set_fps(clip.fps /4)\n",
    "clip=vfx.speedx(clip,4)\n",
    "clip.write_videofile('tgsb_super_speedup_4.mp4')"
   ]
  },
  {
   "cell_type": "code",
   "execution_count": 59,
   "metadata": {},
   "outputs": [
    {
     "output_type": "execute_result",
     "data": {
      "text/plain": [
       "2.4975"
      ]
     },
     "metadata": {},
     "execution_count": 59
    }
   ],
   "source": []
  },
  {
   "cell_type": "code",
   "execution_count": 45,
   "metadata": {},
   "outputs": [
    {
     "output_type": "execute_result",
     "data": {
      "text/plain": [
       "599"
      ]
     },
     "metadata": {},
     "execution_count": 45
    }
   ],
   "source": [
    "clip = VideoFileClip(\"tgsb_clip_deinterlaced.mp4\")\n",
    "int(clip.fps * clip.duration)"
   ]
  },
  {
   "cell_type": "code",
   "execution_count": 44,
   "metadata": {},
   "outputs": [
    {
     "output_type": "execute_result",
     "data": {
      "text/plain": [
       "1199"
      ]
     },
     "metadata": {},
     "execution_count": 44
    }
   ],
   "source": [
    "clip = VideoFileClip(\"tgsb_super.mp4\")\n",
    "int(clip.fps * clip.duration)"
   ]
  },
  {
   "cell_type": "code",
   "execution_count": 46,
   "metadata": {},
   "outputs": [
    {
     "output_type": "execute_result",
     "data": {
      "text/plain": [
       "2.001669449081803"
      ]
     },
     "metadata": {},
     "execution_count": 46
    }
   ],
   "source": [
    "1199/599"
   ]
  }
 ]
}